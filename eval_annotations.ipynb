{
 "cells": [
  {
   "cell_type": "markdown",
   "metadata": {},
   "source": [
    "## Evaluate the Annotations of Mismatching Translation Pairs\n",
    "This is an evaluation script for the annotated mismatching translation pairs in the annotation experiment.\n",
    "\n",
    "Recall the numbers:\n",
    "- coupling: $\\Gamma^{20000}_{\\langle 1740, 1770 \\rangle}$ (14031 pairs, 5835 mismatches)\n",
    "- 2500 pairs in total (2x1500 pairs annotated, overlap: 500) \n",
    "- classes: \n",
    "    - O match (orthographic/morphological difference)\n",
    "    - S match (semantically similar)\n",
    "    - R mismatch (semantically related)\n",
    "    - A mismatch (antonymy)\n",
    "    - N mismatch (noise)\n",
    "    - X mismatch (wildcard)\n",
    "    \n",
    "To do:\n",
    "- compute inter-annotator agreement (Kohen's Kappa) _(0.44, 'moderate')_\n",
    "- compute relative frequency of matches, mismatches _(matches/overlap: 0.722 (before) vs 0.728 (after annotation))_\n",
    "- compute estimated quality of $\\Gamma$ -- how much does it change compared match/mismatch statistics? _(not much)_\n",
    "- make histogram of classes by score _(done)_\n",
    "- make boxplot of classes _(done)_\n",
    "- retrieve all pairs with labels O, S, R, and A"
   ]
  },
  {
   "cell_type": "code",
   "execution_count": 1,
   "metadata": {},
   "outputs": [],
   "source": [
    "\"\"\" imports \"\"\"\n",
    "import utils\n",
    "import default\n",
    "\n",
    "import csv\n",
    "import numpy as np\n",
    "from pandas import DataFrame\n",
    "import pandas as pd\n",
    "\n",
    "from pprint import pprint\n",
    "\n",
    "from sklearn.metrics import cohen_kappa_score\n",
    "\n",
    "import matplotlib.pyplot as plt\n",
    "%matplotlib inline\n",
    "\n",
    "LABELS = [\"O\", \"S\", \"R\", \"A\", \"N\", \"X\"]"
   ]
  },
  {
   "cell_type": "code",
   "execution_count": 2,
   "metadata": {},
   "outputs": [],
   "source": [
    "def read_annot_file(filepath):\n",
    "    labels = []\n",
    "    words1 = []\n",
    "    words2 = []\n",
    "    scores = []\n",
    "    pairs  = []\n",
    "    \n",
    "    with open(filepath, \"r\") as f:\n",
    "        for line in f:\n",
    "            line = line.rstrip()\n",
    "            if len(line) > 0:\n",
    "                values = line.split()\n",
    "                labels.append(values[0][1].upper()) # only the label, not the brackets\n",
    "                words1.append(values[1])\n",
    "                words2.append(values[2])\n",
    "                pairs.append((values[1], values[2]))\n",
    "                scores.append(float(values[3]))\n",
    "            \n",
    "    df = DataFrame({\"label\":labels, \"word1\":words1, \"word2\":words2, \"pair\":pairs, \"score\":scores})\n",
    "    return df\n",
    "\n",
    "def iaa(df1, df2, selection, label_name, selection_name):\n",
    "    \"\"\" \n",
    "    this requires two dataframes, another dataframe to restrict the selection of labels (or None),\n",
    "    and the column names of the labels and of the column to select by.\n",
    "    \"\"\"\n",
    "    \n",
    "    if selection is None:\n",
    "        labels1 = df1[label_name].tolist()\n",
    "        labels2 = df2[label_name].tolist() \n",
    "    else:\n",
    "        labels1 = df1[df1[selection_name].isin(selection)][label_name].tolist()\n",
    "        labels2 = df2[df2[selection_name].isin(selection)][label_name].tolist()\n",
    "\n",
    "    return cohen_kappa_score(labels1, labels2)\n",
    "        "
   ]
  },
  {
   "cell_type": "markdown",
   "metadata": {},
   "source": [
    "#### Read the annotated files and compute the inter-annotator agreement. Then count the label frequencies"
   ]
  },
  {
   "cell_type": "code",
   "execution_count": 70,
   "metadata": {},
   "outputs": [
    {
     "name": "stdout",
     "output_type": "stream",
     "text": [
      "agreement: 0.44779224121292704\n"
     ]
    }
   ],
   "source": [
    "overlap_file = \"annotation/pairs/overlap.txt\"\n",
    "annot1_file  = \"annotation/annotated/annotations_1.txt\" \n",
    "annot2_file  = \"annotation/annotated/annotations_2.txt\"\n",
    "\n",
    "# read in all the data\n",
    "overlap_pairs = set(read_annot_file(overlap_file)[\"pair\"].tolist())\n",
    "annot1 = read_annot_file(annot1_file)\n",
    "annot2 = read_annot_file(annot2_file)\n",
    "\n",
    "# compute inter-annotator agreement\n",
    "agreement = iaa(annot1, annot2, overlap_pairs, \"label\", \"pair\")\n",
    "print(\"agreement:\",agreement)\n",
    "\n",
    "# 0.45 is 'moderate agreement'"
   ]
  },
  {
   "cell_type": "code",
   "execution_count": 71,
   "metadata": {},
   "outputs": [
    {
     "data": {
      "text/html": [
       "<div>\n",
       "<style scoped>\n",
       "    .dataframe tbody tr th:only-of-type {\n",
       "        vertical-align: middle;\n",
       "    }\n",
       "\n",
       "    .dataframe tbody tr th {\n",
       "        vertical-align: top;\n",
       "    }\n",
       "\n",
       "    .dataframe thead th {\n",
       "        text-align: right;\n",
       "    }\n",
       "</style>\n",
       "<table border=\"1\" class=\"dataframe\">\n",
       "  <thead>\n",
       "    <tr style=\"text-align: right;\">\n",
       "      <th></th>\n",
       "      <th>label</th>\n",
       "      <th>word1</th>\n",
       "      <th>word2</th>\n",
       "      <th>pair</th>\n",
       "      <th>score</th>\n",
       "    </tr>\n",
       "  </thead>\n",
       "  <tbody>\n",
       "    <tr>\n",
       "      <th>0</th>\n",
       "      <td>N</td>\n",
       "      <td>thunder-clouds</td>\n",
       "      <td>reck</td>\n",
       "      <td>(thunder-clouds, reck)</td>\n",
       "      <td>0.4322</td>\n",
       "    </tr>\n",
       "    <tr>\n",
       "      <th>1</th>\n",
       "      <td>N</td>\n",
       "      <td>elec</td>\n",
       "      <td>tric</td>\n",
       "      <td>(elec, tric)</td>\n",
       "      <td>0.4218</td>\n",
       "    </tr>\n",
       "    <tr>\n",
       "      <th>2</th>\n",
       "      <td>N</td>\n",
       "      <td>half-complements</td>\n",
       "      <td>1000ths</td>\n",
       "      <td>(half-complements, 1000ths)</td>\n",
       "      <td>0.4190</td>\n",
       "    </tr>\n",
       "    <tr>\n",
       "      <th>3</th>\n",
       "      <td>N</td>\n",
       "      <td>morbi</td>\n",
       "      <td>lateribus</td>\n",
       "      <td>(morbi, lateribus)</td>\n",
       "      <td>0.4155</td>\n",
       "    </tr>\n",
       "    <tr>\n",
       "      <th>4</th>\n",
       "      <td>N</td>\n",
       "      <td>ibid</td>\n",
       "      <td>pt.</td>\n",
       "      <td>(ibid, pt.)</td>\n",
       "      <td>0.4138</td>\n",
       "    </tr>\n",
       "    <tr>\n",
       "      <th>...</th>\n",
       "      <td>...</td>\n",
       "      <td>...</td>\n",
       "      <td>...</td>\n",
       "      <td>...</td>\n",
       "      <td>...</td>\n",
       "    </tr>\n",
       "    <tr>\n",
       "      <th>2495</th>\n",
       "      <td>N</td>\n",
       "      <td>littre</td>\n",
       "      <td>ptarmigan</td>\n",
       "      <td>(littre, ptarmigan)</td>\n",
       "      <td>0.1253</td>\n",
       "    </tr>\n",
       "    <tr>\n",
       "      <th>2496</th>\n",
       "      <td>N</td>\n",
       "      <td>vermicles</td>\n",
       "      <td>alcyonia</td>\n",
       "      <td>(vermicles, alcyonia)</td>\n",
       "      <td>0.1252</td>\n",
       "    </tr>\n",
       "    <tr>\n",
       "      <th>2497</th>\n",
       "      <td>N</td>\n",
       "      <td>touchstone</td>\n",
       "      <td>jargon</td>\n",
       "      <td>(touchstone, jargon)</td>\n",
       "      <td>0.1252</td>\n",
       "    </tr>\n",
       "    <tr>\n",
       "      <th>2498</th>\n",
       "      <td>N</td>\n",
       "      <td>hoare</td>\n",
       "      <td>norton</td>\n",
       "      <td>(hoare, norton)</td>\n",
       "      <td>0.1252</td>\n",
       "    </tr>\n",
       "    <tr>\n",
       "      <th>2499</th>\n",
       "      <td>N</td>\n",
       "      <td>antagonistic</td>\n",
       "      <td>indirect</td>\n",
       "      <td>(antagonistic, indirect)</td>\n",
       "      <td>0.1252</td>\n",
       "    </tr>\n",
       "  </tbody>\n",
       "</table>\n",
       "<p>2500 rows × 5 columns</p>\n",
       "</div>"
      ],
      "text/plain": [
       "     label             word1      word2                         pair   score\n",
       "0        N    thunder-clouds       reck       (thunder-clouds, reck)  0.4322\n",
       "1        N              elec       tric                 (elec, tric)  0.4218\n",
       "2        N  half-complements    1000ths  (half-complements, 1000ths)  0.4190\n",
       "3        N             morbi  lateribus           (morbi, lateribus)  0.4155\n",
       "4        N              ibid        pt.                  (ibid, pt.)  0.4138\n",
       "...    ...               ...        ...                          ...     ...\n",
       "2495     N            littre  ptarmigan          (littre, ptarmigan)  0.1253\n",
       "2496     N         vermicles   alcyonia        (vermicles, alcyonia)  0.1252\n",
       "2497     N        touchstone     jargon         (touchstone, jargon)  0.1252\n",
       "2498     N             hoare     norton              (hoare, norton)  0.1252\n",
       "2499     N      antagonistic   indirect     (antagonistic, indirect)  0.1252\n",
       "\n",
       "[2500 rows x 5 columns]"
      ]
     },
     "execution_count": 71,
     "metadata": {},
     "output_type": "execute_result"
    }
   ],
   "source": [
    "annot = pd.concat([annot1, annot2.loc[500:]]) # this does not have the indices right; you'll have to use .iloc[] instead of .loc[]\n",
    "\n",
    "annot_ranked = annot.sort_values(\"score\", ascending=False, ignore_index=True)\n",
    "annot_ranked"
   ]
  },
  {
   "cell_type": "code",
   "execution_count": 72,
   "metadata": {},
   "outputs": [
    {
     "name": "stdout",
     "output_type": "stream",
     "text": [
      "label: O   frequency:   27    1.08%\n",
      "label: S   frequency:   44    1.76%\n",
      "label: R   frequency:  334   13.36%\n",
      "label: A   frequency:   43    1.72%\n",
      "label: N   frequency: 2032   81.28%\n",
      "label: X   frequency:   17    0.68%\n",
      "\n",
      "mislabelled:\n",
      "     label     word1   word2                pair   score\n",
      "764      M       bah     abf          (bah, abf)  0.1295\n",
      "811      B  serenity  crotch  (serenity, crotch)  0.1286\n",
      "1119     M      411/     63~         (411/, 63~)  0.1289\n"
     ]
    }
   ],
   "source": [
    "labels_O = annot[annot[\"label\"]==\"O\"]\n",
    "labels_S = annot[annot[\"label\"]==\"S\"]\n",
    "labels_R = annot[annot[\"label\"]==\"R\"]\n",
    "labels_A = annot[annot[\"label\"]==\"A\"]\n",
    "labels_N = annot[annot[\"label\"]==\"N\"]\n",
    "labels_X = annot[annot[\"label\"]==\"X\"]\n",
    "others = annot[annot[\"label\"].isin(LABELS) == False]\n",
    "\n",
    "for frame, label in zip([labels_O, labels_S, labels_R, labels_A, labels_N, labels_X], LABELS):\n",
    "    print(f\"label: {label}   frequency: {len(frame):>4}   {100*len(frame)/len(annot):>5.2f}%\")\n",
    "\n",
    "print(f\"\\nmislabelled:\\n{others}\")"
   ]
  },
  {
   "cell_type": "markdown",
   "metadata": {},
   "source": [
    "#### Pairs are distributed unevenly across coupling scores. Instead of plotting by score, plot by score rank instead."
   ]
  },
  {
   "cell_type": "code",
   "execution_count": 73,
   "metadata": {},
   "outputs": [
    {
     "name": "stderr",
     "output_type": "stream",
     "text": [
      "/home/simon/.local/lib/python3.8/site-packages/numpy/core/_asarray.py:83: VisibleDeprecationWarning: Creating an ndarray from ragged nested sequences (which is a list-or-tuple of lists-or-tuples-or ndarrays with different lengths or shapes) is deprecated. If you meant to do this, you must specify 'dtype=object' when creating the ndarray\n",
      "  return array(a, dtype, copy=False, order=order)\n"
     ]
    },
    {
     "data": {
      "text/plain": [
       "Text(0, 0.5, 'occurrences')"
      ]
     },
     "execution_count": 73,
     "metadata": {},
     "output_type": "execute_result"
    },
    {
     "data": {
      "image/png": "[encoded data removed]",
      "text/plain": [
       "<Figure size 432x288 with 1 Axes>"
      ]
     },
     "metadata": {
      "needs_background": "light"
     },
     "output_type": "display_data"
    }
   ],
   "source": [
    "plt.hist([labels_O[\"score\"].tolist(),\n",
    "                labels_S[\"score\"].tolist(),\n",
    "                labels_R[\"score\"].tolist(),\n",
    "                labels_A[\"score\"].tolist(),\n",
    "                labels_N[\"score\"].tolist(),\n",
    "                labels_X[\"score\"].tolist()],\n",
    "                 label = LABELS,\n",
    "               histtype = 'bar'\n",
    "              )\n",
    "plt.legend()\n",
    "plt.grid()\n",
    "plt.xlabel(\"coupling score x1e-3\")\n",
    "plt.ylabel(\"occurrences\")"
   ]
  },
  {
   "cell_type": "code",
   "execution_count": 74,
   "metadata": {},
   "outputs": [
    {
     "data": {
      "text/plain": [
       "Text(0, 0.5, 'occurrences')"
      ]
     },
     "execution_count": 74,
     "metadata": {},
     "output_type": "execute_result"
    },
    {
     "data": {
      "image/png": "[encoded data removed]",
      "text/plain": [
       "<Figure size 432x288 with 1 Axes>"
      ]
     },
     "metadata": {
      "needs_background": "light"
     },
     "output_type": "display_data"
    }
   ],
   "source": [
    "rlabels_O = annot_ranked[annot_ranked[\"label\"]==\"O\"]\n",
    "rlabels_S = annot_ranked[annot_ranked[\"label\"]==\"S\"]\n",
    "rlabels_R = annot_ranked[annot_ranked[\"label\"]==\"R\"]\n",
    "rlabels_A = annot_ranked[annot_ranked[\"label\"]==\"A\"]\n",
    "rlabels_N = annot_ranked[annot_ranked[\"label\"]==\"N\"]\n",
    "rlabels_X = annot_ranked[annot_ranked[\"label\"]==\"X\"]\n",
    "rothers = annot_ranked[annot_ranked[\"label\"].isin(LABELS) == False]\n",
    "\n",
    "\n",
    "plt.hist([rlabels_O.index.tolist(),\n",
    "                rlabels_S.index.tolist(),\n",
    "                rlabels_R.index.tolist(),\n",
    "                rlabels_A.index.tolist(),\n",
    "                rlabels_N.index.tolist(),\n",
    "                rlabels_X.index.tolist()],\n",
    "                 label = LABELS,\n",
    "               histtype = 'bar'\n",
    "              )\n",
    "plt.legend()\n",
    "plt.xlabel(\"rank by coupling score\")\n",
    "plt.ylabel(\"occurrences\")\n"
   ]
  },
  {
   "cell_type": "code",
   "execution_count": 75,
   "metadata": {},
   "outputs": [
    {
     "data": {
      "text/plain": [
       "Text(0, 0.5, 'occurrences')"
      ]
     },
     "execution_count": 75,
     "metadata": {},
     "output_type": "execute_result"
    },
    {
     "data": {
      "image/png": "[encoded data removed]",
      "text/plain": [
       "<Figure size 540x360 with 1 Axes>"
      ]
     },
     "metadata": {
      "needs_background": "light"
     },
     "output_type": "display_data"
    }
   ],
   "source": [
    "\"\"\" Exclude 'R' and 'N' to let the other labels show more nicely \"\"\"\n",
    "\n",
    "size_factor = 5\n",
    "rows = 1\n",
    "columns = 1\n",
    "\n",
    "fig, axes = plt.subplots(rows, columns, figsize=(1.5*size_factor*columns, size_factor*rows))\n",
    "                         \n",
    "\n",
    "\n",
    "axes.hist([rlabels_O.index.tolist(),\n",
    "           rlabels_S.index.tolist(),\n",
    "           rlabels_A.index.tolist(),\n",
    "           rlabels_X.index.tolist()],\n",
    "           label = [\"O\", \"S\", \"A\", \"X\"],\n",
    "           rwidth = 0.8,\n",
    "           histtype = 'bar')\n",
    "axes.legend()\n",
    "axes.grid(which='both')\n",
    "plt.xticks(range(0,2750,250), [str(x) for x in range(0,2750,250)])\n",
    "\n",
    "axes.set_xlabel(\"rank by coupling score\")\n",
    "axes.set_ylabel(\"occurrences\")\n",
    "#plt.savefig(\"visuals/annotation_labels-hist.png\", dpi=250)"
   ]
  },
  {
   "cell_type": "code",
   "execution_count": 76,
   "metadata": {},
   "outputs": [
    {
     "data": {
      "text/plain": [
       "Text(0, 0.5, 'rank by coupling score')"
      ]
     },
     "execution_count": 76,
     "metadata": {},
     "output_type": "execute_result"
    },
    {
     "data": {
      "image/png": "[encoded data removed]",
      "text/plain": [
       "<Figure size 540x360 with 1 Axes>"
      ]
     },
     "metadata": {
      "needs_background": "light"
     },
     "output_type": "display_data"
    }
   ],
   "source": [
    "size_factor = 5\n",
    "rows = 1\n",
    "columns = 1\n",
    "\n",
    "fig, axes = plt.subplots(rows, columns, figsize=(1.5*size_factor*columns, size_factor*rows))\n",
    "                         \n",
    "\n",
    "\n",
    "axes.boxplot([rlabels_O.index.tolist(),\n",
    "                rlabels_S.index.tolist(),\n",
    "                rlabels_R.index.tolist(),\n",
    "                rlabels_A.index.tolist(),\n",
    "                rlabels_N.index.tolist(),\n",
    "                rlabels_X.index.tolist()],\n",
    "                 labels = LABELS)\n",
    "\n",
    "axes.grid(which='both')\n",
    "axes.set_xlabel(\"label\")\n",
    "axes.set_ylabel(\"rank by coupling score\")\n",
    "#plt.savefig(\"visuals/annotation_label-ranks-boxplot.png\", dpi=250)"
   ]
  },
  {
   "cell_type": "markdown",
   "metadata": {},
   "source": [
    "#### Improvement of coupling performance\n",
    "\n",
    "- label frequencies: O:27, S:44, R:334, A:43, N:2032, X:17, others:3\n",
    "- 71 valuable (O, S)\n",
    "- 2426 noise (R, A, N, X, others)\n",
    "\n",
    "from the coupling:\n",
    "- 14031 pairs  \n",
    "- 11357 vocabulary overlap\n",
    "- 8196 matches (5835 mismatches)\n",
    "- matches/overlap: 0.722\n",
    "- matches/pairs:   0.584\n",
    "\n",
    "corrected:\n",
    "- 8267 matches (5764 mismatches)\n",
    "- matches/overlap: 0.728\n",
    "- matches/pairs:   0.589"
   ]
  },
  {
   "cell_type": "markdown",
   "metadata": {},
   "source": [
    "#### Write annotated pairs to a file (only those with the labels 'O' and 'S')"
   ]
  },
  {
   "cell_type": "code",
   "execution_count": 172,
   "metadata": {},
   "outputs": [],
   "source": [
    "woi = {}\n",
    "for frame in [labels_O, labels_S]:\n",
    "    for p, s in zip(frame[\"pair\"].tolist(), frame[\"score\"].tolist()):\n",
    "        woi[p] = s"
   ]
  },
  {
   "cell_type": "code",
   "execution_count": 176,
   "metadata": {},
   "outputs": [],
   "source": [
    "filepath = \"words_of_interest/1740_annotated_pairs.txt\"\n",
    "with open(filepath, \"w\") as f:\n",
    "    for pair in sorted(woi, key=woi.get, reverse=True):\n",
    "        #f.write(f\"{pair[0]:<15} {pair[1]:<15} {woi[pair]:>5.3f}\\n\")"
   ]
  }
 ],
 "metadata": {
  "kernelspec": {
   "display_name": "Python 3",
   "language": "python",
   "name": "python3"
  },
  "language_info": {
   "codemirror_mode": {
    "name": "ipython",
    "version": 3
   },
   "file_extension": ".py",
   "mimetype": "text/x-python",
   "name": "python",
   "nbconvert_exporter": "python",
   "pygments_lexer": "ipython3",
   "version": "3.8.0"
  }
 },
 "nbformat": 4,
 "nbformat_minor": 4
}
